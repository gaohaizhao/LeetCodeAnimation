{
  "cells": [
    {
      "cell_type": "code",
      "execution_count": 3,
      "metadata": {
        "colab": {
          "base_uri": "https://localhost:8080/"
        },
        "id": "XJaXr0hspNvm",
        "outputId": "31586fc4-f09f-41de-de6a-78aebb489193"
      },
      "outputs": [
        {
          "output_type": "stream",
          "name": "stdout",
          "text": [
            "hello world\n",
            "SDASDdadasdafa\n",
            "None\n"
          ]
        }
      ],
      "source": [
        "import os\n",
        "from google.colab import userdata\n",
        "\n",
        "print(\"hello world\")\n",
        "print(userdata.get('LARK_APP_ID'))\n",
        "print(os.getenv('LARK_APP_ID'))\n"
      ]
    },
    {
      "cell_type": "code",
      "source": [
        "! pip install langchain_openai -U"
      ],
      "metadata": {
        "id": "tRXS20wgC1a2"
      },
      "execution_count": null,
      "outputs": []
    },
    {
      "cell_type": "code",
      "source": [
        "from langchain_openai import ChatOpenAI\n",
        "from google.colab import userdata\n",
        "import os\n",
        "\n",
        "os.environ[\"OPENAI_API_BASE\"] = 'https://dashscope.aliyuncs.com/compatible-mode/v1'\n",
        "os.environ[\"OPENAI_API_KEY\"] = userdata.get('OPENAI_API_KEY')\n",
        "\n",
        "llm = ChatOpenAI()\n",
        "\n"
      ],
      "metadata": {
        "id": "ZNq8D7yGCkfU"
      },
      "execution_count": null,
      "outputs": []
    }
  ],
  "metadata": {
    "language_info": {
      "name": "python"
    },
    "colab": {
      "provenance": [],
      "toc_visible": true
    },
    "kernelspec": {
      "name": "python3",
      "display_name": "Python 3"
    }
  },
  "nbformat": 4,
  "nbformat_minor": 0
}